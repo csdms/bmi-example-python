{
 "cells": [
  {
   "cell_type": "markdown",
   "metadata": {},
   "source": [
    "# Run the `Heat` model through its BMI"
   ]
  },
  {
   "cell_type": "markdown",
   "metadata": {},
   "source": [
    "`Heat` models the diffusion of temperature on a uniform rectangular plate with Dirichlet boundary conditions. View the source code for the [model](https://github.com/csdms/bmi-example-python/blob/master/heat/heat.py) and its [BMI](https://github.com/csdms/bmi-example-python/blob/master/heat/bmi_heat.py) on GitHub."
   ]
  },
  {
   "cell_type": "markdown",
   "metadata": {},
   "source": [
    "Start by importing `os`, `numpy` and the `Heat` BMI:"
   ]
  },
  {
   "cell_type": "code",
   "execution_count": 1,
   "metadata": {},
   "outputs": [],
   "source": [
    "import os\n",
    "import numpy as np\n",
    "import pandas as pd\n",
    "import matplotlib.pyplot as plt\n",
    "\n",
    "from heat import BmiHeat"
   ]
  },
  {
   "cell_type": "markdown",
   "metadata": {},
   "source": [
    "Create an instance of the model's BMI."
   ]
  },
  {
   "cell_type": "code",
   "execution_count": 2,
   "metadata": {},
   "outputs": [],
   "source": [
    "x = BmiHeat()"
   ]
  },
  {
   "cell_type": "markdown",
   "metadata": {},
   "source": [
    "What's the name of this model?"
   ]
  },
  {
   "cell_type": "code",
   "execution_count": 3,
   "metadata": {},
   "outputs": [
    {
     "name": "stdout",
     "output_type": "stream",
     "text": [
      "The 2D Heat Equation\n"
     ]
    }
   ],
   "source": [
    "print(x.get_component_name())"
   ]
  },
  {
   "cell_type": "markdown",
   "metadata": {},
   "source": [
    "Start the `Heat` model through its BMI using a configuration file:"
   ]
  },
  {
   "cell_type": "code",
   "execution_count": 4,
   "metadata": {},
   "outputs": [
    {
     "name": "stdout",
     "output_type": "stream",
     "text": [
      "# Heat model configuration\n",
      "shape:\n",
      "  - 6\n",
      "  - 8\n",
      "spacing:\n",
      "  - 1.0\n",
      "  - 1.0\n",
      "origin:\n",
      "  - 0.0\n",
      "  - 0.0\n",
      "alpha: 1.0\n"
     ]
    }
   ],
   "source": [
    "cat heat.yaml"
   ]
  },
  {
   "cell_type": "code",
   "execution_count": 5,
   "metadata": {},
   "outputs": [],
   "source": [
    "x.initialize(\"heat.yaml\")"
   ]
  },
  {
   "cell_type": "markdown",
   "metadata": {},
   "source": [
    "Check the time information for the model."
   ]
  },
  {
   "cell_type": "code",
   "execution_count": 6,
   "metadata": {},
   "outputs": [
    {
     "name": "stdout",
     "output_type": "stream",
     "text": [
      "{\n",
      "    \"time\": 0.0,\n",
      "    \"plate_surface__temperature\": {\n",
      "        \"value\": [\n",
      "            0.7444227320828752,\n",
      "            0.34022663250676577,\n",
      "            0.8432555496724361,\n",
      "            0.060846504441758764,\n",
      "            0.8446697787107923,\n",
      "            0.27627788779009277,\n",
      "            0.5877718799413219,\n",
      "            0.5737654859660629,\n",
      "            0.34645112782286935,\n",
      "            0.37414828806554334,\n",
      "            0.7846696450611258,\n",
      "            0.5304173216068899,\n",
      "            0.0792535018455699,\n",
      "            0.8793127450388358,\n",
      "            0.15703439775879213,\n",
      "            0.3912156458741114,\n",
      "            0.9707058465142714,\n",
      "            0.5511025163784199,\n",
      "            0.1470283563347624,\n",
      "            0.05645959012302082,\n",
      "            0.9089090697986834,\n",
      "            0.4495395294486181,\n",
      "            0.011832496810315396,\n",
      "            0.4171122020390934,\n",
      "            0.33814771386922027,\n",
      "            0.8466251708240787,\n",
      "            0.6636025903978577,\n",
      "            0.342616329035892,\n",
      "            0.9154478512615142,\n",
      "            0.14537348896585434,\n",
      "            0.545772555177156,\n",
      "            0.8827706254573504,\n",
      "            0.2851195288529734,\n",
      "            0.47448421167380395,\n",
      "            0.2783120501807711,\n",
      "            0.28066701069377975,\n",
      "            0.841622847809508,\n",
      "            0.7140017886819985,\n",
      "            0.9744899247558164,\n",
      "            0.45762952067167606,\n",
      "            0.22664959884228209,\n",
      "            0.7177555043888103,\n",
      "            0.9900324558495176,\n",
      "            0.7858216954853029,\n",
      "            0.11380231880676006,\n",
      "            0.16366335988935754,\n",
      "            0.7884014952466945,\n",
      "            0.14975089428180044\n",
      "        ],\n",
      "        \"type\": \"float64\",\n",
      "        \"itemsize\": 8,\n",
      "        \"nbytes\": 384\n",
      "    }\n",
      "}\n"
     ]
    }
   ],
   "source": [
    "stateOut = x.get_state()\n",
    "print(stateOut)"
   ]
  },
  {
   "cell_type": "code",
   "execution_count": 7,
   "metadata": {},
   "outputs": [],
   "source": [
    "import json\n",
    "stateOutDict = json.loads(stateOut)"
   ]
  },
  {
   "cell_type": "code",
   "execution_count": 8,
   "metadata": {},
   "outputs": [
    {
     "name": "stdout",
     "output_type": "stream",
     "text": [
      "{'time': 0.0, 'plate_surface__temperature': {'value': [0.7444227320828752, 0.34022663250676577, 0.8432555496724361, 0.060846504441758764, 0.8446697787107923, 0.27627788779009277, 0.5877718799413219, 0.5737654859660629, 0.34645112782286935, 0.37414828806554334, 0.7846696450611258, 0.5304173216068899, 0.0792535018455699, 0.8793127450388358, 0.15703439775879213, 0.3912156458741114, 0.9707058465142714, 0.5511025163784199, 0.1470283563347624, 0.05645959012302082, 0.9089090697986834, 0.4495395294486181, 0.011832496810315396, 0.4171122020390934, 0.33814771386922027, 0.8466251708240787, 0.6636025903978577, 0.342616329035892, 0.9154478512615142, 0.14537348896585434, 0.545772555177156, 0.8827706254573504, 0.2851195288529734, 0.47448421167380395, 0.2783120501807711, 0.28066701069377975, 0.841622847809508, 0.7140017886819985, 0.9744899247558164, 0.45762952067167606, 0.22664959884228209, 0.7177555043888103, 0.9900324558495176, 0.7858216954853029, 0.11380231880676006, 0.16366335988935754, 0.7884014952466945, 0.14975089428180044], 'type': 'float64', 'itemsize': 8, 'nbytes': 384, 15: 0}}\n"
     ]
    }
   ],
   "source": [
    "stateOutDict['plate_surface__temperature'][15]=0\n",
    "print(stateOutDict)"
   ]
  },
  {
   "cell_type": "code",
   "execution_count": 9,
   "metadata": {},
   "outputs": [],
   "source": [
    "x.set_state(json.dumps(stateOutDict))"
   ]
  },
  {
   "cell_type": "code",
   "execution_count": 10,
   "metadata": {},
   "outputs": [
    {
     "name": "stdout",
     "output_type": "stream",
     "text": [
      "Start time: 0.0\n",
      "End time: 1.7976931348623157e+308\n",
      "Current time: 0.0\n",
      "Time step: 0.25\n",
      "Time units: s\n"
     ]
    }
   ],
   "source": [
    "print(\"Start time:\", x.get_start_time())\n",
    "print(\"End time:\", x.get_end_time())\n",
    "print(\"Current time:\", x.get_current_time())\n",
    "print(\"Time step:\", x.get_time_step())\n",
    "print(\"Time units:\", x.get_time_units())"
   ]
  },
  {
   "cell_type": "markdown",
   "metadata": {},
   "source": [
    "Show the input and output variables for the component (aside on [Standard Names](https://csdms.colorado.edu/wiki/CSDMS_Standard_Names)):"
   ]
  },
  {
   "cell_type": "code",
   "execution_count": 11,
   "metadata": {},
   "outputs": [
    {
     "name": "stdout",
     "output_type": "stream",
     "text": [
      "('plate_surface__temperature',)\n",
      "('plate_surface__temperature',)\n"
     ]
    }
   ],
   "source": [
    "print(x.get_input_var_names())\n",
    "print(x.get_output_var_names())"
   ]
  },
  {
   "cell_type": "markdown",
   "metadata": {},
   "source": [
    "Next, get the identifier for the grid on which the temperature variable is defined:"
   ]
  },
  {
   "cell_type": "code",
   "execution_count": 12,
   "metadata": {},
   "outputs": [
    {
     "name": "stdout",
     "output_type": "stream",
     "text": [
      "Grid id: 0\n"
     ]
    }
   ],
   "source": [
    "grid_id = x.get_var_grid(\"plate_surface__temperature\")\n",
    "print(\"Grid id:\", grid_id)"
   ]
  },
  {
   "cell_type": "markdown",
   "metadata": {},
   "source": [
    "Then get the grid attributes:"
   ]
  },
  {
   "cell_type": "code",
   "execution_count": 13,
   "metadata": {},
   "outputs": [
    {
     "name": "stdout",
     "output_type": "stream",
     "text": [
      "Grid type: uniform_rectilinear\n",
      "Grid rank: 2\n",
      "Grid shape: [6 8]\n",
      "Grid spacing: [1. 1.]\n"
     ]
    }
   ],
   "source": [
    "print(\"Grid type:\", x.get_grid_type(grid_id))\n",
    "\n",
    "rank = x.get_grid_rank(grid_id)\n",
    "print(\"Grid rank:\", rank)\n",
    "\n",
    "shape = np.ndarray(rank, dtype=int)\n",
    "x.get_grid_shape(grid_id, shape)\n",
    "print(\"Grid shape:\", shape)\n",
    "\n",
    "spacing = np.ndarray(rank, dtype=float)\n",
    "x.get_grid_spacing(grid_id, spacing)\n",
    "print(\"Grid spacing:\", spacing)"
   ]
  },
  {
   "cell_type": "markdown",
   "metadata": {},
   "source": [
    "These commands are made somewhat un-Pythonic by the generic design of the BMI."
   ]
  },
  {
   "cell_type": "markdown",
   "metadata": {},
   "source": [
    "Through the model's BMI, zero out the initial temperature field, except for an impulse near the middle.\n",
    "Note that *set_value* expects a one-dimensional array for input."
   ]
  },
  {
   "cell_type": "code",
   "execution_count": 14,
   "metadata": {},
   "outputs": [],
   "source": [
    "temperature = np.zeros(shape)\n",
    "temperature[3, 4] = 100.0\n",
    "x.set_value(\"plate_surface__temperature\", temperature)"
   ]
  },
  {
   "cell_type": "markdown",
   "metadata": {},
   "source": [
    "Check that the temperature field has been updated. Note that *get_value* expects a one-dimensional array to receive output."
   ]
  },
  {
   "cell_type": "code",
   "execution_count": 15,
   "metadata": {},
   "outputs": [
    {
     "name": "stdout",
     "output_type": "stream",
     "text": [
      "[[  0.   0.   0.   0.   0.   0.   0.   0.]\n",
      " [  0.   0.   0.   0.   0.   0.   0.   0.]\n",
      " [  0.   0.   0.   0.   0.   0.   0.   0.]\n",
      " [  0.   0.   0.   0. 100.   0.   0.   0.]\n",
      " [  0.   0.   0.   0.   0.   0.   0.   0.]\n",
      " [  0.   0.   0.   0.   0.   0.   0.   0.]]\n"
     ]
    }
   ],
   "source": [
    "temperature_flat = np.empty_like(temperature).flatten()\n",
    "x.get_value(\"plate_surface__temperature\", temperature_flat)\n",
    "print(temperature_flat.reshape(shape))"
   ]
  },
  {
   "cell_type": "markdown",
   "metadata": {},
   "source": [
    "Now advance the model by a single time step:"
   ]
  },
  {
   "cell_type": "code",
   "execution_count": 16,
   "metadata": {},
   "outputs": [],
   "source": [
    "x.update()"
   ]
  },
  {
   "cell_type": "markdown",
   "metadata": {},
   "source": [
    "View the new state of the temperature field:"
   ]
  },
  {
   "cell_type": "code",
   "execution_count": 17,
   "metadata": {},
   "outputs": [
    {
     "name": "stdout",
     "output_type": "stream",
     "text": [
      "[[ 0.   0.   0.   0.   0.   0.   0.   0. ]\n",
      " [ 0.   0.   0.   0.   0.   0.   0.   0. ]\n",
      " [ 0.   0.   0.   0.  12.5  0.   0.   0. ]\n",
      " [ 0.   0.   0.  12.5 50.  12.5  0.   0. ]\n",
      " [ 0.   0.   0.   0.  12.5  0.   0.   0. ]\n",
      " [ 0.   0.   0.   0.   0.   0.   0.   0. ]]\n"
     ]
    }
   ],
   "source": [
    "x.get_value(\"plate_surface__temperature\", temperature_flat)\n",
    "print(temperature_flat.reshape(shape))"
   ]
  },
  {
   "cell_type": "markdown",
   "metadata": {},
   "source": [
    "There's diffusion!"
   ]
  },
  {
   "cell_type": "markdown",
   "metadata": {},
   "source": [
    "## Generate an ensemble of models using get_state and set_state\n",
    "We will demonstrate (some of) the use of get_state and set_state by generating an ensemble of models starting from the state of the one we just initialized, adding noise to each ensemble member and than running all of them forward in time. While running forward, we save the temperature at a single point of interest and plot a graph of all ensemble members to show the ensemble spread over time.\n",
    "\n",
    "First, we save the current state of the model."
   ]
  },
  {
   "cell_type": "code",
   "execution_count": 18,
   "metadata": {},
   "outputs": [],
   "source": [
    "state_out = x.get_state()"
   ]
  },
  {
   "cell_type": "markdown",
   "metadata": {},
   "source": [
    "State is always returned as a string. In this case the string is formated as JSON, so Let's see what keys are in this state:"
   ]
  },
  {
   "cell_type": "code",
   "execution_count": 19,
   "metadata": {},
   "outputs": [
    {
     "name": "stdout",
     "output_type": "stream",
     "text": [
      "dict_keys(['time', 'plate_surface__temperature'])\n"
     ]
    }
   ],
   "source": [
    "dictState = json.loads(state_out)\n",
    "print(dictState.keys())"
   ]
  },
  {
   "cell_type": "code",
   "execution_count": 20,
   "metadata": {},
   "outputs": [
    {
     "name": "stdout",
     "output_type": "stream",
     "text": [
      "dict_keys(['value', 'type', 'itemsize', 'nbytes'])\n"
     ]
    }
   ],
   "source": [
    "print(dictState['plate_surface__temperature'].keys())"
   ]
  },
  {
   "cell_type": "markdown",
   "metadata": {},
   "source": [
    "Next, we create an ensemble of BMI model objects. Each model gets initzialized in the same way as ```x``` was above."
   ]
  },
  {
   "cell_type": "code",
   "execution_count": 21,
   "metadata": {},
   "outputs": [],
   "source": [
    "nEnsemble = 25\n",
    "ensemble = []\n",
    "\n",
    "for ensembleMember in range(nEnsemble):\n",
    "    ensemble.append(BmiHeat())\n",
    "    ensemble[ensembleMember].initialize(\"heat.yaml\")"
   ]
  },
  {
   "cell_type": "markdown",
   "metadata": {},
   "source": [
    "Now, for each ensemble member, we take the state of x, add some noise, and set the state of the member"
   ]
  },
  {
   "cell_type": "code",
   "execution_count": 22,
   "metadata": {},
   "outputs": [],
   "source": [
    "plate_surface_temp_from_x = np.array(dictState['plate_surface__temperature']['value']).reshape(shape)\n",
    "\n",
    "for ensembleMember in range(nEnsemble):\n",
    "    #for each ensemble, start with the same state as x.\n",
    "    ensembleMemberDictState = dictState\n",
    "    \n",
    "    noise = np.zeros_like(plate_surface_temp_from_x)\n",
    "    noise[2:5,3:6] = 2 * np.random.randn(3,3)\n",
    "    plate_surface_temp = plate_surface_temp_from_x + noise\n",
    "    \n",
    "    #this array we want to set in the state is a numpy array, which has to be transformed \n",
    "    #to a list otherwise we can not turn it into a json string.\n",
    "    ensembleMemberDictState['plate_surface__temperature']['value'] = plate_surface_temp.tolist()\n",
    "    \n",
    "    #Turn the state with noise added back into a json string\n",
    "    ensembleStateJSON = json.dumps(ensembleMemberDictState)\n",
    "    \n",
    "    #finally set the state of the ensemble member.\n",
    "    ensemble[ensembleMember].set_state(ensembleStateJSON)\n",
    "    \n",
    "#Note that the above loop is needlessly verbose for educational purposes.\n",
    "#This does use a lot of memmory. The code below is less readable, but uses less memmory.\n",
    "#When using bigger models than this example model, this can make a big difference in \n",
    "#performance.\n",
    "\n",
    "\n",
    "plate_surface_temp_from_x = dictState['plate_surface__temperature']['value']\n",
    "noise = np.zeros(shape)\n",
    "    \n",
    "for ensembleMember in range(nEnsemble):\n",
    "\n",
    "    noise[2:5,3:6] = 2 * np.random.randn(3,3)\n",
    "    \n",
    "\n",
    "    dictState['plate_surface__temperature']['value'] = (plate_surface_temp_from_x + \n",
    "                                                        noise).flatten().tolist()\n",
    "    ensemble[ensembleMember].set_state(json.dumps(dictState))\n"
   ]
  },
  {
   "cell_type": "markdown",
   "metadata": {},
   "source": [
    "Now run the entire ensemble forward in time. Every timestep, we are saving the temperature of one location of the plate of interest, for each ensemble member.\n",
    "\n",
    "Note that for bigger models, the for loop in this step can be run in parallel for all the models. "
   ]
  },
  {
   "cell_type": "code",
   "execution_count": 23,
   "metadata": {},
   "outputs": [],
   "source": [
    "loc_of_interest = [14]\n",
    "\n",
    "distant_time = 15.0\n",
    "output = pd.DataFrame(columns = ['x'])\n",
    "\n",
    "outputValue = []\n",
    "while x.get_current_time() < distant_time:\n",
    "    x.update()\n",
    "    x.get_value_at_indices('plate_surface__temperature',outputValue, loc_of_interest)\n",
    "    output.loc[x.get_current_time(),'x'] = outputValue[0]\n",
    "    \n",
    "    for ensembleMember in range(nEnsemble):\n",
    "        ensemble[ensembleMember].update()\n",
    "        ensemble[ensembleMember].get_value_at_indices('plate_surface__temperature',outputValue, loc_of_interest)\n",
    "        output.loc[ensemble[ensembleMember].get_current_time(),'ensemble' + str(ensembleMember)] = outputValue[0]\n",
    "        \n"
   ]
  },
  {
   "cell_type": "markdown",
   "metadata": {},
   "source": [
    "View the final state of the temperatures of the entire ensemble at the locaiton of interest:"
   ]
  },
  {
   "cell_type": "code",
   "execution_count": 24,
   "metadata": {},
   "outputs": [
    {
     "data": {
      "text/plain": [
       "Text(0, 0.5, 'temperature')"
      ]
     },
     "execution_count": 24,
     "metadata": {},
     "output_type": "execute_result"
    },
    {
     "data": {
      "image/png": "[encoded data removed]",
      "text/plain": [
       "<Figure size 432x288 with 1 Axes>"
      ]
     },
     "metadata": {
      "needs_background": "light"
     },
     "output_type": "display_data"
    }
   ],
   "source": [
    "plt.plot(output.loc[output.index < 15,output.columns.str.startswith('ensemble')],'k')\n",
    "plt.plot(output.loc[output.index < 15,'x'],'r')\n",
    "plt.xlabel('time')\n",
    "plt.ylabel('temperature')"
   ]
  },
  {
   "cell_type": "markdown",
   "metadata": {},
   "source": [
    "Remember to remove the models from memory"
   ]
  },
  {
   "cell_type": "code",
   "execution_count": 25,
   "metadata": {},
   "outputs": [],
   "source": [
    "x.finalize()\n",
    "for ensembleMember in range(nEnsemble):\n",
    "    ensemble[ensembleMember].finalize()"
   ]
  }
 ],
 "metadata": {
  "kernelspec": {
   "display_name": "Python 3",
   "language": "python",
   "name": "python3"
  },
  "language_info": {
   "codemirror_mode": {
    "name": "ipython",
    "version": 3
   },
   "file_extension": ".py",
   "mimetype": "text/x-python",
   "name": "python",
   "nbconvert_exporter": "python",
   "pygments_lexer": "ipython3",
   "version": "3.7.1"
  }
 },
 "nbformat": 4,
 "nbformat_minor": 2
}
